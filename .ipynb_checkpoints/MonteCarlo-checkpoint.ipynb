{
 "cells": [
  {
   "cell_type": "code",
   "execution_count": 1,
   "metadata": {},
   "outputs": [
    {
     "name": "stdout",
     "output_type": "stream",
     "text": [
      "                   Ajax     Feyenoord           PSV     FCUtrecht  \\\n",
      "Ajax               None  [65, 17, 18]  [54, 21, 25]  [74, 14, 12]   \n",
      "Feyenoord  [30, 21, 49]          None  [37, 24, 39]  [51, 22, 27]   \n",
      "PSV        [39, 22, 39]  [54, 22, 24]          None  [62, 20, 18]   \n",
      "FCUtrecht  [25, 14, 61]  [37, 23, 40]  [29, 24, 47]          None   \n",
      "WillemII   [17, 18, 65]  [20, 26, 54]  [23, 24, 53]  [37, 25, 38]   \n",
      "\n",
      "               WillemII  \n",
      "Ajax        [78, 13, 9]  \n",
      "Feyenoord  [60, 21, 19]  \n",
      "PSV        [62, 22, 16]  \n",
      "FCUtrecht  [52, 23, 25]  \n",
      "WillemII           None  \n"
     ]
    }
   ],
   "source": [
    "import pandas as pd\n",
    "import numpy as np\n",
    "import matplotlib.pyplot as plt\n",
    "from matplotlib.ticker import PercentFormatter\n",
    "import MerseneTwister\n",
    "import math\n",
    "RandomClass = MerseneTwister.Mersenne()\n",
    "random = RandomClass.randomNumber\n",
    "\n",
    "Ajax      =  [None, [65,17,18], [54,21,25], [74,14,12], [78,13,9]]\n",
    "Feyenoord =  [[30,21,49], None, [37,24,39], [51,22,27], [60,21,19]]\n",
    "PSV       =  [[39,22,39], [54,22,24], None, [62,20,18], [62,22,16]]\n",
    "FCUtrecht =  [[25,14,61], [37,23,40], [29,24,47], None, [52,23,25]]\n",
    "WillemII  =  [[17,18,65], [20,26,54], [23,24,53], [37,25,38], None]\n",
    "\n",
    "teams = [\"Ajax\", \"Feyenoord\", \"PSV\", \"FCUtrecht\", \"WillemII\"]\n",
    "table = pd.DataFrame([Ajax, Feyenoord, PSV, FCUtrecht, WillemII])\n",
    "table = table.set_index(pd.Index(teams))\n",
    "table.columns = teams\n",
    "print(table)"
   ]
  },
  {
   "cell_type": "code",
   "execution_count": 2,
   "metadata": {},
   "outputs": [],
   "source": [
    "#Makes a list with 100 items. If the win chanse is 30 than 30 items in this list are 3 (you get 3 points for a win)\n",
    "#Then randomly picks a item in this list\n",
    "determinHomePoints = lambda chan: ([3]*chan[0] + [1]*chan[1] + [0]*chan[2])[random([0,99])] if chan != None else None\n",
    "determinResult = lambda homePoints: (homePoints,{3:0, 1:1, 0:3}[homePoints]) if homePoints != None else None\n"
   ]
  },
  {
   "cell_type": "code",
   "execution_count": 3,
   "metadata": {
    "tags": []
   },
   "outputs": [],
   "source": [
    "def runSim(version=\"base\"):\n",
    "    leaqueTable = table.copy()\n",
    "    dictOfTeams = {team:0 for team in teams}\n",
    "    for index, row in leaqueTable.iterrows():\n",
    "        for colum in list(leaqueTable):\n",
    "            pointsForHomeTeam = determinHomePoints(leaqueTable[colum][index])\n",
    "            result = determinResult(pointsForHomeTeam)\n",
    "            if result != None:\n",
    "                # colum == awayteam index == hometeam\n",
    "                dictOfTeams[index] += result[0]\n",
    "                dictOfTeams[colum] += result[1]\n",
    "\n",
    "    ranking = pd.Series(dictOfTeams).sort_values(ascending=False)\n",
    "    return ranking"
   ]
  },
  {
   "cell_type": "code",
   "execution_count": 4,
   "metadata": {},
   "outputs": [],
   "source": [
    "def runSimulations(numberOfSimulations, version=\"base\"):\n",
    "    rankingNumbersDict = {i+1:0 for i in range(len(teams))}\n",
    "    rankingTeams = {team: rankingNumbersDict.copy() for team in teams}\n",
    "    for simNummer in range(numberOfSimulations):\n",
    "        seasonRanking = runSim()\n",
    "        ii = 0\n",
    "        for i, v in seasonRanking.iteritems():\n",
    "            rankingTeams[i][ii + 1] += 1\n",
    "            #Checks if the team is not tied with the one above\n",
    "            if (ii+1 != len(seasonRanking)-1) and (v != seasonRanking[ii+1]):\n",
    "                ii += 1\n",
    "                \n",
    "    return rankingTeams "
   ]
  },
  {
   "cell_type": "code",
   "execution_count": 5,
   "metadata": {},
   "outputs": [
    {
     "name": "stdout",
     "output_type": "stream",
     "text": [
      "                   1          2          3          4    5\n",
      "Ajax       67.714286  20.857143   8.571429   2.857143  0.0\n",
      "Feyenoord  12.285714  34.000000  32.571429  21.142857  0.0\n",
      "PSV        28.571429  35.428571  22.571429  13.428571  0.0\n",
      "FCUtrecht   6.571429  21.142857  30.857143  41.428571  0.0\n",
      "WillemII    2.571429  13.142857  29.428571  54.857143  0.0\n"
     ]
    }
   ],
   "source": [
    "getSimulationResults = lambda numSim, version=\"base\": (pd.DataFrame.from_dict(runSimulations(numSim, version), orient='index') /numSim) * 100\n",
    "print(getSimulationResults(350))"
   ]
  },
  {
   "cell_type": "markdown",
   "metadata": {},
   "source": [
    "Verdiepend\n",
    "\n",
    "De bovenstaande similatie in leuk en aardig maar het doel van een simulatie is toch het antwoord geven op een vraagstuk. Ondaks dat dit een leuke similatie is om te doen hebben we niet echt antwoord gegeven op een vraag. Ik heb daarom de vrijheid genomen om zelf een klein onderzoekje optestellen.\n",
    "\n",
    "Mijn vraag luid als volgd.\n",
    "Heeft de willekeur van de volgorde waarin de werstreiden gespeeld worden effect op het de freqentie waarmee bepaalde teams op bepaalde posities eindigen.\n",
    "\n",
    "In de vorige opdracht heeft het resultaat van de vorige wedstijden geen effect gehad op de kans van winnen van de huidigen wedstijd. In die simulatie zou het antwoord dus duidelijk nee zijn.\n",
    "\n",
    "Het effect van moraal is niet mee genomen (je kan ook stellen dat die al inbegrepen zit in het persentage in dat geval is de willekeur van moraal niet mee genomen). \n",
    "\n",
    "Laten wij er van uitgaan dat een team dat 3 wedstijden achter elkaar heeft gewonnen vertrouwen heeft in hun spel en dat dit hun win kans vergroot. Nu maakt de volgorde van de wedstijden potentieel wel uit.\n",
    "\n",
    "We kunnen iets als het volgende stellen <br>\n",
    "[Game1, Game2, Game3] = Een lijst met de laatste 3 wedstijden <br>\n",
    "if [Won, Won, Won]: winkans + 15% <br>\n",
    "if [Any, Any, Won]: winkans + 5% <br>\n",
    "if [Any, Any, Loss]: winkans - 5% <br>\n",
    "if [Loss, Loss, Loss]: winkans - 15%\n"
   ]
  },
  {
   "cell_type": "code",
   "execution_count": 6,
   "metadata": {},
   "outputs": [],
   "source": [
    "def determinMotivation(past):\n",
    "    if past == [3,3,3]:\n",
    "        return [10,5,-15]\n",
    "    elif past == [0,0,0]:\n",
    "        return [-10,-5,15]\n",
    "    elif past[-1:] == 3:\n",
    "        return [5,0,-5]\n",
    "    elif past[-1:] == 0:\n",
    "        return [-5,0,5]\n",
    "    else:\n",
    "        return [0,0,0]\n",
    "\n",
    "def runSim(version=\"base\"):\n",
    "    leaqueTable = table.copy()\n",
    "    dictOfTeams = {team:0 for team in teams}\n",
    "    pastScoresDict = {team:[None,None,None] for team in teams}\n",
    "    for index, row in leaqueTable.iterrows():\n",
    "        for colum in list(leaqueTable):\n",
    "            pastScore = pastScoresDict[index]\n",
    "            chanses = leaqueTable[colum][index]\n",
    "            if chanses == None:\n",
    "                continue\n",
    "            elif version == \"morale\":   \n",
    "                chanses = [a+b for a, b in zip(determinMotivation(pastScore), leaqueTable[colum][index])]\n",
    "            \n",
    "            pointsForHomeTeam = determinHomePoints(chanses)\n",
    "            result = determinResult(pointsForHomeTeam)\n",
    "            # colum == awayteam index == hometeam\n",
    "            dictOfTeams[index] += result[0]\n",
    "            dictOfTeams[colum] += result[1]\n",
    "            pastScoresDict[index] = [result[0]] + [pastScore[0]] + [pastScore[1]]\n",
    "            pastScoreAway = pastScoresDict[colum]\n",
    "            pastScoresDict[colum] = [result[1]] + [pastScoreAway[0]] + [pastScoreAway[1]]\n",
    "\n",
    "    ranking = pd.Series(dictOfTeams).sort_values(ascending=False)\n",
    "    return ranking"
   ]
  },
  {
   "cell_type": "code",
   "execution_count": 7,
   "metadata": {},
   "outputs": [
    {
     "name": "stdout",
     "output_type": "stream",
     "text": [
      "                   1          2          3          4    5\n",
      "Ajax       63.428571  25.142857   8.857143   2.571429  0.0\n",
      "Feyenoord  16.285714  24.571429  32.571429  26.571429  0.0\n",
      "PSV        27.714286  36.857143  22.000000  13.428571  0.0\n",
      "FCUtrecht   7.428571  19.714286  28.857143  44.000000  0.0\n",
      "WillemII    3.428571  14.857143  24.285714  57.428571  0.0\n",
      "                   1          2          3          4    5\n",
      "Ajax       66.571429  23.142857   6.571429   3.714286  0.0\n",
      "Feyenoord  19.142857  27.714286  30.571429  22.571429  0.0\n",
      "PSV        31.142857  35.714286  21.428571  11.714286  0.0\n",
      "FCUtrecht   7.428571  22.857143  30.000000  39.714286  0.0\n",
      "WillemII    1.428571  13.142857  30.000000  55.428571  0.0\n"
     ]
    }
   ],
   "source": [
    "print(getSimulationResults(350))\n",
    "print(getSimulationResults(350, version=\"morale\"))"
   ]
  },
  {
   "cell_type": "markdown",
   "metadata": {},
   "source": [
    "op het eerste oog punt zien we niet zo veel verschil"
   ]
  },
  {
   "cell_type": "code",
   "execution_count": 8,
   "metadata": {},
   "outputs": [
    {
     "name": "stdout",
     "output_type": "stream",
     "text": [
      "             1    2    3    4    5\n",
      "Ajax       2.0 -3.0  1.0  1.0  0.0\n",
      "Feyenoord -1.0 -1.0 -1.0  4.0  0.0\n",
      "PSV        1.0  4.0 -3.0 -1.0  0.0\n",
      "FCUtrecht -1.0  3.0 -1.0 -1.0  0.0\n",
      "WillemII   2.0 -1.0  2.0 -3.0  0.0\n",
      "             1    2    3    4    5\n",
      "Ajax      -1.0  0.0 -1.0  2.0  0.0\n",
      "Feyenoord -3.0  7.0 -3.0 -1.0  0.0\n",
      "PSV        5.0 -6.0  4.0 -3.0  0.0\n",
      "FCUtrecht  1.0  3.0 -3.0 -1.0  0.0\n",
      "WillemII   0.0 -3.0  0.0  3.0  0.0\n",
      "             1    2    3    4    5\n",
      "Ajax       6.0 -5.0 -1.0  0.0  0.0\n",
      "Feyenoord -3.0  1.0  1.0  1.0  0.0\n",
      "PSV       -5.0  1.0  4.0  1.0  0.0\n",
      "FCUtrecht  0.0  1.0 -1.0  0.0  0.0\n",
      "WillemII  -1.0 -2.0 -0.0  3.0  0.0\n",
      "             1    2    3    4    5\n",
      "Ajax       1.0  1.0 -1.0 -2.0  0.0\n",
      "Feyenoord -3.0  6.0 -3.0  1.0  0.0\n",
      "PSV        1.0 -2.0  4.0 -3.0  0.0\n",
      "FCUtrecht  1.0  1.0 -4.0  2.0  0.0\n",
      "WillemII   2.0 -1.0 -3.0  2.0  0.0\n",
      "             1    2    3    4    5\n",
      "Ajax      -3.0  3.0  2.0 -2.0  0.0\n",
      "Feyenoord -2.0 -1.0  3.0 -0.0  0.0\n",
      "PSV        5.0 -2.0 -3.0  0.0  0.0\n",
      "FCUtrecht  1.0 -2.0 -1.0  3.0  0.0\n",
      "WillemII  -0.0 -4.0  1.0  3.0  0.0\n"
     ]
    }
   ],
   "source": [
    "for i in range(50,550,100):\n",
    "    print((getSimulationResults(350) - getSimulationResults(350, version=\"morale\")).round())\n"
   ]
  },
  {
   "cell_type": "markdown",
   "metadata": {},
   "source": [
    "Er is niet echt een trend te zien in het verschil. Het mee nemen van moraal maakt voor deze simulatie dus niet zo veel uit"
   ]
  },
  {
   "cell_type": "markdown",
   "metadata": {},
   "source": [
    "Poisson verdeeling\n",
    "\n",
    "De score wordt nu niet meegenomen. Om dit we te doen kunnen we een poisson verdeeling maken. Hiervoor hebben we voor elk team nodig: \n",
    "hoeveel ze gemiddeld thuis score (HS), \n",
    "hoeveel ze gemiddeld uit score (AS), \n",
    "hoeveel ze gemiddeld thuis tegenkrijgen (HC), \n",
    "hoeveel ze gemiddeld uit tegenkrijgen (AC)\n",
    "\n",
    "Deze staan hier onder in een tabel verwerkt"
   ]
  },
  {
   "cell_type": "code",
   "execution_count": 9,
   "metadata": {},
   "outputs": [],
   "source": [
    "Ajax =\t [3.2, 0.9, 3.1, 0.6]\n",
    "Feyenoord =\t[2.4, 1.1, 2.2, 0.8]\n",
    "PSV = [2.1, 0.7, 1.8, 1.3]\n",
    "FCUtrecht = [1.9, 1.2, 3, 2.4]\n",
    "WillemII = [1.4, 1.7, 1, 1.5]\n",
    "teams = [\"Ajax\", \"Feyenoord\", \"PSV\", \"FCUtrecht\", \"WillemII\"]\n",
    "averScoreDF = pd.DataFrame([Ajax, Feyenoord, PSV, FCUtrecht, WillemII])\n",
    "averScoreDF = averScoreDF.set_index(pd.Index(teams))\n",
    "averScoreDF.columns = [\"HS\", \"HC\", \"AS\", \"AC\"]"
   ]
  },
  {
   "cell_type": "code",
   "execution_count": 10,
   "metadata": {},
   "outputs": [],
   "source": [
    "#berekend de kans op een gegeven score gegeven een gemiddelde score\n",
    "applyPoisson = lambda score, averScore: (averScore**score)*(math.e**-averScore) / math.factorial(score)\n",
    "getDistribution = lambda averScore: [applyPoisson(i,averScore) for i in range(5)]\n",
    "\n",
    "def listOfChoises(dis):\n",
    "    choises = []\n",
    "    for i in range(len(dis)):\n",
    "        choises += [i] * round(dis[i]*100)\n",
    "    return choises \n",
    "\n",
    "def getScore(averScore):\n",
    "    distribution = getDistribution(averScore)\n",
    "    choises = listOfChoises(distribution)\n",
    "    score = choises[random([0,len(choises)-1])]\n",
    "    return score"
   ]
  },
  {
   "cell_type": "markdown",
   "metadata": {},
   "source": [
    "Omdat we uiteraard willen weten of deze uitwerking klopt moeten we de simulatie een aantal keer runnen en deze dan vergelijken met de kansen.\n",
    "Hieronder zien we dat de freqentie waarmee een score voorkomt overeenkomt met de kans op deze score. Er gebeurt dus niks raars"
   ]
  },
  {
   "cell_type": "code",
   "execution_count": 11,
   "metadata": {},
   "outputs": [
    {
     "data": {
      "image/png": "[encoded data removed]",
      "text/plain": [
       "<Figure size 432x288 with 2 Axes>"
      ]
     },
     "metadata": {
      "needs_background": "light"
     },
     "output_type": "display_data"
    }
   ],
   "source": [
    "results = [getScore(0.824) for i in range(1000)]\n",
    "plt.subplot(1, 2, 1)\n",
    "plt.hist(results, weights=np.ones(len(results)) / len(results))\n",
    "plt.gca().yaxis.set_major_formatter(PercentFormatter(1))\n",
    "plt.subplot(1, 2, 2)\n",
    "dis = getDistribution(0.824)\n",
    "forPlot = {dis.index(i):i for i in dis}\n",
    "plt.bar(range(5), getDistribution(0.824))\n",
    "plt.show()"
   ]
  },
  {
   "cell_type": "code",
   "execution_count": 12,
   "metadata": {},
   "outputs": [],
   "source": [
    "def makeSchedule(teams):\n",
    "    ammountTeams = len(teams)\n",
    "    schedule = pd.DataFrame(np.zeros((ammountTeams, ammountTeams)))\n",
    "    schedule.columns = teams\n",
    "    schedule.index = teams\n",
    "    return schedule\n",
    "\n",
    "def playSchedule(schedule, averScoreDF):\n",
    "    for column in schedule:\n",
    "        for index, row in schedule.iterrows():\n",
    "            if index == column:\n",
    "                schedule[column][index] = None\n",
    "            else:\n",
    "                scoreChanseHome = (averScoreDF[\"HS\"][index] + averScoreDF[\"AC\"][column]) /2\n",
    "                scoreChanseAway = (averScoreDF[\"AS\"][column] + averScoreDF[\"HC\"][index]) /2\n",
    "                gameResult = \"{}:{}\".format(getScore(scoreChanseHome), getScore(scoreChanseAway))\n",
    "                schedule[column][index] = gameResult\n",
    "    return schedule"
   ]
  },
  {
   "cell_type": "code",
   "execution_count": 13,
   "metadata": {},
   "outputs": [
    {
     "name": "stdout",
     "output_type": "stream",
     "text": [
      "          Ajax Feyenoord   PSV FCUtrecht WillemII\n",
      "Ajax       NaN       1:3   1:1       2:2      1:1\n",
      "Feyenoord  3:2      None   0:0       4:0      2:1\n",
      "PSV        2:1       0:1  None       4:2      2:1\n",
      "FCUtrecht  3:3       2:1   2:1      None      2:4\n",
      "WillemII   2:1       0:1   2:2       0:3     None\n"
     ]
    },
    {
     "name": "stderr",
     "output_type": "stream",
     "text": [
      "<ipython-input-12-44d7848d5020>:17: SettingWithCopyWarning: \n",
      "A value is trying to be set on a copy of a slice from a DataFrame\n",
      "\n",
      "See the caveats in the documentation: https://pandas.pydata.org/pandas-docs/stable/user_guide/indexing.html#returning-a-view-versus-a-copy\n",
      "  schedule[column][index] = gameResult\n",
      "C:\\NoDefault\\CodeStuff\\Conda\\lib\\site-packages\\pandas\\core\\indexing.py:670: SettingWithCopyWarning: \n",
      "A value is trying to be set on a copy of a slice from a DataFrame\n",
      "\n",
      "See the caveats in the documentation: https://pandas.pydata.org/pandas-docs/stable/user_guide/indexing.html#returning-a-view-versus-a-copy\n",
      "  iloc._setitem_with_indexer(indexer, value)\n",
      "<ipython-input-12-44d7848d5020>:12: SettingWithCopyWarning: \n",
      "A value is trying to be set on a copy of a slice from a DataFrame\n",
      "\n",
      "See the caveats in the documentation: https://pandas.pydata.org/pandas-docs/stable/user_guide/indexing.html#returning-a-view-versus-a-copy\n",
      "  schedule[column][index] = None\n"
     ]
    }
   ],
   "source": [
    "print(playSchedule(makeSchedule(teams), averScoreDF))"
   ]
  },
  {
   "cell_type": "code",
   "execution_count": null,
   "metadata": {},
   "outputs": [],
   "source": []
  }
 ],
 "metadata": {
  "kernelspec": {
   "display_name": "Python 3",
   "language": "python",
   "name": "python3"
  },
  "language_info": {
   "codemirror_mode": {
    "name": "ipython",
    "version": 3
   },
   "file_extension": ".py",
   "mimetype": "text/x-python",
   "name": "python",
   "nbconvert_exporter": "python",
   "pygments_lexer": "ipython3",
   "version": "3.8.5"
  }
 },
 "nbformat": 4,
 "nbformat_minor": 2
}
