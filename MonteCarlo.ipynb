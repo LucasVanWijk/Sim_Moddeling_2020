{
 "metadata": {
  "language_info": {
   "codemirror_mode": {
    "name": "ipython",
    "version": 3
   },
   "file_extension": ".py",
   "mimetype": "text/x-python",
   "name": "python",
   "nbconvert_exporter": "python",
   "pygments_lexer": "ipython3",
   "version": "3.8.3-final"
  },
  "orig_nbformat": 2,
  "kernelspec": {
   "name": "python3",
   "display_name": "Python 3",
   "language": "python"
  }
 },
 "nbformat": 4,
 "nbformat_minor": 2,
 "cells": [
  {
   "cell_type": "code",
   "execution_count": 1,
   "metadata": {},
   "outputs": [
    {
     "output_type": "stream",
     "name": "stdout",
     "text": [
      "                   Ajax     Feyenoord           PSV     FCUtrecht  \\\nAjax               None  [65, 17, 18]  [54, 21, 25]  [74, 14, 12]   \nFeyenoord  [30, 21, 49]          None  [37, 24, 39]  [51, 22, 27]   \nPSV        [39, 22, 39]  [54, 22, 24]          None  [62, 20, 18]   \nFCUtrecht  [25, 14, 61]  [37, 23, 40]  [29, 24, 47]          None   \nWillemII   [17, 18, 65]  [20, 26, 54]  [23, 24, 53]  [37, 25, 38]   \n\n               WillemII  \nAjax        [78, 13, 9]  \nFeyenoord  [60, 21, 19]  \nPSV        [62, 22, 16]  \nFCUtrecht  [52, 23, 25]  \nWillemII           None  \n"
     ]
    }
   ],
   "source": [
    "import pandas as pd\n",
    "import numpy as np\n",
    "import matplotlib.pyplot as plt\n",
    "from matplotlib.ticker import PercentFormatter\n",
    "import MerseneTwister\n",
    "import math\n",
    "RandomClass = MerseneTwister.Mersenne()\n",
    "random = RandomClass.randomNumber\n",
    "\n",
    "Ajax      =  [None, [65,17,18], [54,21,25], [74,14,12], [78,13,9]]\n",
    "Feyenoord =  [[30,21,49], None, [37,24,39], [51,22,27], [60,21,19]]\n",
    "PSV       =  [[39,22,39], [54,22,24], None, [62,20,18], [62,22,16]]\n",
    "FCUtrecht =  [[25,14,61], [37,23,40], [29,24,47], None, [52,23,25]]\n",
    "WillemII  =  [[17,18,65], [20,26,54], [23,24,53], [37,25,38], None]\n",
    "\n",
    "teams = [\"Ajax\", \"Feyenoord\", \"PSV\", \"FCUtrecht\", \"WillemII\"]\n",
    "table = pd.DataFrame([Ajax, Feyenoord, PSV, FCUtrecht, WillemII])\n",
    "table = table.set_index(pd.Index(teams))\n",
    "table.columns = teams\n",
    "print(table)"
   ]
  },
  {
   "cell_type": "code",
   "execution_count": 2,
   "metadata": {},
   "outputs": [],
   "source": [
    "#Makes a list with 100 items. If the win chanse is 30 than 30 items in this list are 3 (you get 3 points for a win)\n",
    "#Then randomly picks a item in this list\n",
    "determinHomePoints = lambda chan: ([3]*chan[0] + [1]*chan[1] + [0]*chan[2])[random([0,99])] if chan != None else None\n",
    "determinResult = lambda homePoints: (homePoints,{3:0, 1:1, 0:3}[homePoints]) if homePoints != None else None\n"
   ]
  },
  {
   "cell_type": "code",
   "execution_count": 3,
   "metadata": {
    "tags": []
   },
   "outputs": [],
   "source": [
    "def runSim(version=\"base\"):\n",
    "    leaqueTable = table.copy()\n",
    "    dictOfTeams = {team:0 for team in teams}\n",
    "    for index, row in leaqueTable.iterrows():\n",
    "        for colum in list(leaqueTable):\n",
    "            pointsForHomeTeam = determinHomePoints(leaqueTable[colum][index])\n",
    "            result = determinResult(pointsForHomeTeam)\n",
    "            if result != None:\n",
    "                # colum == awayteam index == hometeam\n",
    "                dictOfTeams[index] += result[0]\n",
    "                dictOfTeams[colum] += result[1]\n",
    "\n",
    "    ranking = pd.Series(dictOfTeams).sort_values(ascending=False)\n",
    "    return ranking"
   ]
  },
  {
   "cell_type": "code",
   "execution_count": 4,
   "metadata": {},
   "outputs": [],
   "source": [
    "def runSimulations(numberOfSimulations, version=\"base\"):\n",
    "    rankingNumbersDict = {i+1:0 for i in range(len(teams))}\n",
    "    rankingTeams = {team: rankingNumbersDict.copy() for team in teams}\n",
    "    for simNummer in range(numberOfSimulations):\n",
    "        seasonRanking = runSim()\n",
    "        ii = 0\n",
    "        for i, v in seasonRanking.iteritems():\n",
    "            rankingTeams[i][ii + 1] += 1\n",
    "            #Checks if the team is not tied with the one above\n",
    "            if (ii+1 != len(seasonRanking)-1) and (v != seasonRanking[ii+1]):\n",
    "                ii += 1\n",
    "                \n",
    "    return rankingTeams "
   ]
  },
  {
   "cell_type": "code",
   "execution_count": 5,
   "metadata": {},
   "outputs": [
    {
     "output_type": "stream",
     "name": "stdout",
     "text": [
      "                   1          2          3          4    5\nAjax       67.714286  20.857143   8.571429   2.857143  0.0\nFeyenoord  12.285714  34.000000  32.571429  21.142857  0.0\nPSV        28.571429  35.428571  22.571429  13.428571  0.0\nFCUtrecht   6.571429  21.142857  30.857143  41.428571  0.0\nWillemII    2.571429  13.142857  29.428571  54.857143  0.0\n"
     ]
    }
   ],
   "source": [
    "getSimulationResults = lambda numSim, version=\"base\": (pd.DataFrame.from_dict(runSimulations(numSim, version), orient='index') /numSim) * 100\n",
    "print(getSimulationResults(350))"
   ]
  },
  {
   "source": [
    "Verdiepend\n",
    "\n",
    "De bovenstaande similatie in leuk en aardig maar het doel van een simulatie is toch het antwoord geven op een vraagstuk. Ondaks dat dit een leuke similatie is om te doen hebben we niet echt antwoord gegeven op een vraag. Ik heb daarom de vrijheid genomen om zelf een klein onderzoekje optestellen.\n",
    "\n",
    "Mijn vraag luid als volgd.\n",
    "Heeft de willekeur van de volgorde waarin de werstreiden gespeeld worden effect op het de freqentie waarmee bepaalde teams op bepaalde posities eindigen.\n",
    "\n",
    "In de vorige opdracht heeft het resultaat van de vorige wedstijden geen effect gehad op de kans van winnen van de huidigen wedstijd. In die simulatie zou het antwoord dus duidelijk nee zijn.\n",
    "\n",
    "Het effect van moraal is niet mee genomen (je kan ook stellen dat die al inbegrepen zit in het persentage in dat geval is de willekeur van moraal niet mee genomen). \n",
    "\n",
    "Laten wij er van uitgaan dat een team dat 3 wedstijden achter elkaar heeft gewonnen vertrouwen heeft in hun spel en dat dit hun win kans vergroot. Nu maakt de volgorde van de wedstijden potentieel wel uit.\n",
    "\n",
    "We kunnen iets als het volgende stellen <br>\n",
    "[Game1, Game2, Game3] = Een lijst met de laatste 3 wedstijden <br>\n",
    "if [Won, Won, Won]: winkans + 15% <br>\n",
    "if [Any, Any, Won]: winkans + 5% <br>\n",
    "if [Any, Any, Loss]: winkans - 5% <br>\n",
    "if [Loss, Loss, Loss]: winkans - 15%\n"
   ],
   "cell_type": "markdown",
   "metadata": {}
  },
  {
   "cell_type": "code",
   "execution_count": 8,
   "metadata": {},
   "outputs": [],
   "source": [
    "def determinMotivation(past):\n",
    "    if past == [3,3,3]:\n",
    "        return [10,5,-15]\n",
    "    elif past == [0,0,0]:\n",
    "        return [-10,-5,15]\n",
    "    elif past[-1:] == 3:\n",
    "        return [5,0,-5]\n",
    "    elif past[-1:] == 0:\n",
    "        return [-5,0,5]\n",
    "    else:\n",
    "        return [0,0,0]\n",
    "\n",
    "def runSim(version=\"base\"):\n",
    "    leaqueTable = table.copy()\n",
    "    dictOfTeams = {team:0 for team in teams}\n",
    "    pastScoresDict = {team:[None,None,None] for team in teams}\n",
    "    for index, row in leaqueTable.iterrows():\n",
    "        for colum in list(leaqueTable):\n",
    "            pastScore = pastScoresDict[index]\n",
    "            chanses = leaqueTable[colum][index]\n",
    "            if chanses == None:\n",
    "                continue\n",
    "            elif version == \"morale\":   \n",
    "                chanses = [a+b for a, b in zip(determinMotivation(pastScore), leaqueTable[colum][index])]\n",
    "            \n",
    "            pointsForHomeTeam = determinHomePoints(chanses)\n",
    "            result = determinResult(pointsForHomeTeam)\n",
    "            # colum == awayteam index == hometeam\n",
    "            dictOfTeams[index] += result[0]\n",
    "            dictOfTeams[colum] += result[1]\n",
    "            pastScoresDict[index] = [result[0]] + [pastScore[0]] + [pastScore[1]]\n",
    "            pastScoreAway = pastScoresDict[colum]\n",
    "            pastScoresDict[colum] = [result[1]] + [pastScoreAway[0]] + [pastScoreAway[1]]\n",
    "\n",
    "    ranking = pd.Series(dictOfTeams).sort_values(ascending=False)\n",
    "    return ranking"
   ]
  },
  {
   "cell_type": "code",
   "execution_count": 9,
   "metadata": {},
   "outputs": [
    {
     "output_type": "stream",
     "name": "stdout",
     "text": [
      "                   1          2          3          4    5\n",
      "Ajax       60.000000  27.142857  10.285714   2.571429  0.0\n",
      "Feyenoord  16.000000  30.000000  31.714286  22.285714  0.0\n",
      "PSV        32.571429  39.142857  19.142857   9.142857  0.0\n",
      "FCUtrecht   9.714286  20.285714  28.000000  42.000000  0.0\n",
      "WillemII    1.428571  13.714286  31.714286  53.142857  0.0\n",
      "                   1          2          3          4    5\n",
      "Ajax       61.428571  28.857143   7.428571   2.285714  0.0\n",
      "Feyenoord  13.428571  34.285714  27.714286  24.571429  0.0\n",
      "PSV        29.142857  38.857143  18.857143  13.142857  0.0\n",
      "FCUtrecht   7.142857  18.571429  30.285714  44.000000  0.0\n",
      "WillemII    2.571429  11.142857  32.000000  54.285714  0.0\n"
     ]
    }
   ],
   "source": [
    "print(getSimulationResults(350))\n",
    "print(getSimulationResults(350, version=\"morale\"))"
   ]
  },
  {
   "source": [
    "op het eerste oog punt zien we niet zo veel verschil"
   ],
   "cell_type": "markdown",
   "metadata": {}
  },
  {
   "cell_type": "code",
   "execution_count": 10,
   "metadata": {},
   "outputs": [
    {
     "output_type": "stream",
     "name": "stdout",
     "text": [
      "             1    2    3    4    5\n",
      "Ajax      -1.0  2.0 -1.0  1.0  0.0\n",
      "Feyenoord  2.0  0.0  3.0 -6.0  0.0\n",
      "PSV       -1.0  5.0 -6.0  1.0  0.0\n",
      "FCUtrecht  0.0  3.0 -0.0 -3.0  0.0\n",
      "WillemII   1.0 -4.0  5.0 -3.0  0.0\n",
      "             1    2    3    4    5\n",
      "Ajax       4.0 -1.0 -1.0 -3.0  0.0\n",
      "Feyenoord  3.0  1.0 -6.0  2.0  0.0\n",
      "PSV        3.0 -2.0 -1.0 -0.0  0.0\n",
      "FCUtrecht -3.0  4.0  7.0 -8.0  0.0\n",
      "WillemII   1.0  2.0  1.0 -5.0  0.0\n",
      "             1    2    3    4    5\n",
      "Ajax      -3.0  0.0  3.0 -0.0  0.0\n",
      "Feyenoord -2.0 -3.0 -1.0  6.0  0.0\n",
      "PSV       -1.0  1.0  0.0 -1.0  0.0\n",
      "FCUtrecht  1.0  3.0  2.0 -5.0  0.0\n",
      "WillemII  -1.0  0.0  2.0 -0.0  0.0\n",
      "             1    2    3    4    5\n",
      "Ajax       1.0 -1.0 -1.0  1.0  0.0\n",
      "Feyenoord  0.0  4.0  2.0 -6.0  0.0\n",
      "PSV        4.0 -3.0 -1.0  0.0  0.0\n",
      "FCUtrecht -0.0  2.0  1.0 -3.0  0.0\n",
      "WillemII  -1.0  2.0  0.0 -2.0  0.0\n",
      "             1    2    3    4    5\n",
      "Ajax      -3.0  3.0 -1.0  1.0  0.0\n",
      "Feyenoord  1.0  5.0  0.0 -5.0  0.0\n",
      "PSV       -5.0 -1.0  5.0  0.0  0.0\n",
      "FCUtrecht  0.0 -2.0  1.0  1.0  0.0\n",
      "WillemII  -1.0  2.0 -1.0  0.0  0.0\n"
     ]
    }
   ],
   "source": [
    "for i in range(50,550,100):\n",
    "    print((getSimulationResults(350) - getSimulationResults(350, version=\"morale\")).round())\n"
   ]
  },
  {
   "source": [
    "Er is niet echt een trend te zien in het verschil. Het mee nemen van moraal maakt voor deze simulatie dus niet zo veel uit"
   ],
   "cell_type": "markdown",
   "metadata": {}
  },
  {
   "source": [
    "Poisson verdeeling\n",
    "\n",
    "De score wordt nu niet meegenomen. Om dit we te doen kunnen we een poisson verdeeling maken. Hiervoor hebben we voor elk team nodig: \n",
    "hoeveel ze gemiddeld thuis score (HS), \n",
    "hoeveel ze gemiddeld uit score (AS), \n",
    "hoeveel ze gemiddeld thuis tegenkrijgen (HC), \n",
    "hoeveel ze gemiddeld uit tegenkrijgen (AC)\n",
    "\n",
    "Deze staan hier onder in een tabel verwerkt"
   ],
   "cell_type": "markdown",
   "metadata": {}
  },
  {
   "cell_type": "code",
   "execution_count": 126,
   "metadata": {},
   "outputs": [],
   "source": [
    "Ajax =\t [3.2, 0.9, 3.1, 0.6]\n",
    "Feyenoord =\t[2.4, 1.1, 2.2, 0.8]\n",
    "PSV = [2.1, 0.7, 1.8, 1.3]\n",
    "FCUtrecht = [1.9, 1.2, 3, 2.4]\n",
    "WillemII = [1.4, 1.7, 1, 1.5]\n",
    "teams = [\"Ajax\", \"Feyenoord\", \"PSV\", \"FCUtrecht\", \"WillemII\"]\n",
    "averScoreDF = pd.DataFrame([Ajax, Feyenoord, PSV, FCUtrecht, WillemII])\n",
    "averScoreDF = averScoreDF.set_index(pd.Index(teams))\n",
    "averScoreDF.columns = [\"HS\", \"HC\", \"AS\", \"AC\"]"
   ]
  },
  {
   "cell_type": "code",
   "execution_count": 131,
   "metadata": {},
   "outputs": [],
   "source": [
    "#berekend de kans op een gegeven score gegeven een gemiddelde score\n",
    "applyPoisson = lambda score, averScore: (averScore**score)*(math.e**-averScore) / math.factorial(score)\n",
    "getDistribution = lambda averScore: [applyPoisson(i,averScore) for i in range(5)]\n",
    "\n",
    "def listOfChoises(dis):\n",
    "    choises = []\n",
    "    for i in range(len(dis)):\n",
    "        choises += [i] * round(dis[i]*100)\n",
    "    return choises \n",
    "\n",
    "def getScore(averScore):\n",
    "    distribution = getDistribution(averScore)\n",
    "    choises = listOfChoises(distribution)\n",
    "    score = choises[random([0,len(choises)-1])]\n",
    "    return score"
   ]
  },
  {
   "source": [
    "Omdat we uiteraard willen weten of deze uitwerking klopt moeten we de simulatie een aantal keer runnen en deze dan vergelijken met de kansen.\n",
    "Hieronder zien we dat de freqentie waarmee een score voorkomt overeenkomt met de kans op deze score. Er gebeurt dus niks raars"
   ],
   "cell_type": "markdown",
   "metadata": {}
  },
  {
   "cell_type": "code",
   "execution_count": 132,
   "metadata": {},
   "outputs": [
    {
     "output_type": "display_data",
     "data": {
      "text/plain": "<Figure size 432x288 with 2 Axes>",
      "image/svg+xml": "<?xml version=\"1.0\" encoding=\"utf-8\" standalone=\"no\"?>\r\n<!DOCTYPE svg PUBLIC \"-//W3C//DTD SVG 1.1//EN\"\r\n  \"http://www.w3.org/Graphics/SVG/1.1/DTD/svg11.dtd\">\r\n<!-- Created with matplotlib (https://matplotlib.org/) -->\r\n<svg height=\"248.518125pt\" version=\"1.1\" viewBox=\"0 0 387.967187 248.518125\" width=\"387.967187pt\" xmlns=\"http://www.w3.org/2000/svg\" xmlns:xlink=\"http://www.w3.org/1999/xlink\">\r\n <metadata>\r\n  <rdf:RDF xmlns:cc=\"http://creativecommons.org/ns#\" xmlns:dc=\"http://purl.org/dc/elements/1.1/\" xmlns:rdf=\"http://www.w3.org/1999/02/22-rdf-syntax-ns#\">\r\n   <cc:Work>\r\n    <dc:type rdf:resource=\"http://purl.org/dc/dcmitype/StillImage\"/>\r\n    <dc:date>2021-01-06T18:26:59.973921</dc:date>\r\n    <dc:format>image/svg+xml</dc:format>\r\n    <dc:creator>\r\n     <cc:Agent>\r\n      <dc:title>Matplotlib v3.3.2, https://matplotlib.org/</dc:title>\r\n     </cc:Agent>\r\n    </dc:creator>\r\n   </cc:Work>\r\n  </rdf:RDF>\r\n </metadata>\r\n <defs>\r\n  <style type=\"text/css\">*{stroke-linecap:butt;stroke-linejoin:round;}</style>\r\n </defs>\r\n <g id=\"figure_1\">\r\n  <g id=\"patch_1\">\r\n   <path d=\"M 0 248.518125 \r\nL 387.967187 248.518125 \r\nL 387.967187 0 \r\nL 0 0 \r\nz\r\n\" style=\"fill:none;\"/>\r\n  </g>\r\n  <g id=\"axes_1\">\r\n   <g id=\"patch_2\">\r\n    <path d=\"M 45.967188 224.64 \r\nL 198.149006 224.64 \r\nL 198.149006 7.2 \r\nL 45.967188 7.2 \r\nz\r\n\" style=\"fill:#ffffff;\"/>\r\n   </g>\r\n   <g id=\"patch_3\">\r\n    <path clip-path=\"url(#p6a04f0f30b)\" d=\"M 52.884543 224.64 \r\nL 66.719254 224.64 \r\nL 66.719254 17.554286 \r\nL 52.884543 17.554286 \r\nz\r\n\" style=\"fill:#1f77b4;\"/>\r\n   </g>\r\n   <g id=\"patch_4\">\r\n    <path clip-path=\"url(#p6a04f0f30b)\" d=\"M 66.719254 224.64 \r\nL 80.553964 224.64 \r\nL 80.553964 224.64 \r\nL 66.719254 224.64 \r\nz\r\n\" style=\"fill:#1f77b4;\"/>\r\n   </g>\r\n   <g id=\"patch_5\">\r\n    <path clip-path=\"url(#p6a04f0f30b)\" d=\"M 80.553964 224.64 \r\nL 94.388675 224.64 \r\nL 94.388675 35.146519 \r\nL 80.553964 35.146519 \r\nz\r\n\" style=\"fill:#1f77b4;\"/>\r\n   </g>\r\n   <g id=\"patch_6\">\r\n    <path clip-path=\"url(#p6a04f0f30b)\" d=\"M 94.388675 224.64 \r\nL 108.223386 224.64 \r\nL 108.223386 224.64 \r\nL 94.388675 224.64 \r\nz\r\n\" style=\"fill:#1f77b4;\"/>\r\n   </g>\r\n   <g id=\"patch_7\">\r\n    <path clip-path=\"url(#p6a04f0f30b)\" d=\"M 108.223386 224.64 \r\nL 122.058097 224.64 \r\nL 122.058097 224.64 \r\nL 108.223386 224.64 \r\nz\r\n\" style=\"fill:#1f77b4;\"/>\r\n   </g>\r\n   <g id=\"patch_8\">\r\n    <path clip-path=\"url(#p6a04f0f30b)\" d=\"M 122.058097 224.64 \r\nL 135.892807 224.64 \r\nL 135.892807 144.720999 \r\nL 122.058097 144.720999 \r\nz\r\n\" style=\"fill:#1f77b4;\"/>\r\n   </g>\r\n   <g id=\"patch_9\">\r\n    <path clip-path=\"url(#p6a04f0f30b)\" d=\"M 135.892807 224.64 \r\nL 149.727518 224.64 \r\nL 149.727518 224.64 \r\nL 135.892807 224.64 \r\nz\r\n\" style=\"fill:#1f77b4;\"/>\r\n   </g>\r\n   <g id=\"patch_10\">\r\n    <path clip-path=\"url(#p6a04f0f30b)\" d=\"M 149.727518 224.64 \r\nL 163.562229 224.64 \r\nL 163.562229 203.52932 \r\nL 149.727518 203.52932 \r\nz\r\n\" style=\"fill:#1f77b4;\"/>\r\n   </g>\r\n   <g id=\"patch_11\">\r\n    <path clip-path=\"url(#p6a04f0f30b)\" d=\"M 163.562229 224.64 \r\nL 177.39694 224.64 \r\nL 177.39694 224.64 \r\nL 163.562229 224.64 \r\nz\r\n\" style=\"fill:#1f77b4;\"/>\r\n   </g>\r\n   <g id=\"patch_12\">\r\n    <path clip-path=\"url(#p6a04f0f30b)\" d=\"M 177.39694 224.64 \r\nL 191.23165 224.64 \r\nL 191.23165 219.613648 \r\nL 177.39694 219.613648 \r\nz\r\n\" style=\"fill:#1f77b4;\"/>\r\n   </g>\r\n   <g id=\"matplotlib.axis_1\">\r\n    <g id=\"xtick_1\">\r\n     <g id=\"line2d_1\">\r\n      <defs>\r\n       <path d=\"M 0 0 \r\nL 0 3.5 \r\n\" id=\"m3bb82c1f48\" style=\"stroke:#000000;stroke-width:0.8;\"/>\r\n      </defs>\r\n      <g>\r\n       <use style=\"stroke:#000000;stroke-width:0.8;\" x=\"52.884543\" xlink:href=\"#m3bb82c1f48\" y=\"224.64\"/>\r\n      </g>\r\n     </g>\r\n     <g id=\"text_1\">\r\n      <!-- 0 -->\r\n      <g transform=\"translate(49.703293 239.238437)scale(0.1 -0.1)\">\r\n       <defs>\r\n        <path d=\"M 31.78125 66.40625 \r\nQ 24.171875 66.40625 20.328125 58.90625 \r\nQ 16.5 51.421875 16.5 36.375 \r\nQ 16.5 21.390625 20.328125 13.890625 \r\nQ 24.171875 6.390625 31.78125 6.390625 \r\nQ 39.453125 6.390625 43.28125 13.890625 \r\nQ 47.125 21.390625 47.125 36.375 \r\nQ 47.125 51.421875 43.28125 58.90625 \r\nQ 39.453125 66.40625 31.78125 66.40625 \r\nz\r\nM 31.78125 74.21875 \r\nQ 44.046875 74.21875 50.515625 64.515625 \r\nQ 56.984375 54.828125 56.984375 36.375 \r\nQ 56.984375 17.96875 50.515625 8.265625 \r\nQ 44.046875 -1.421875 31.78125 -1.421875 \r\nQ 19.53125 -1.421875 13.0625 8.265625 \r\nQ 6.59375 17.96875 6.59375 36.375 \r\nQ 6.59375 54.828125 13.0625 64.515625 \r\nQ 19.53125 74.21875 31.78125 74.21875 \r\nz\r\n\" id=\"DejaVuSans-48\"/>\r\n       </defs>\r\n       <use xlink:href=\"#DejaVuSans-48\"/>\r\n      </g>\r\n     </g>\r\n    </g>\r\n    <g id=\"xtick_2\">\r\n     <g id=\"line2d_2\">\r\n      <g>\r\n       <use style=\"stroke:#000000;stroke-width:0.8;\" x=\"87.47132\" xlink:href=\"#m3bb82c1f48\" y=\"224.64\"/>\r\n      </g>\r\n     </g>\r\n     <g id=\"text_2\">\r\n      <!-- 1 -->\r\n      <g transform=\"translate(84.29007 239.238437)scale(0.1 -0.1)\">\r\n       <defs>\r\n        <path d=\"M 12.40625 8.296875 \r\nL 28.515625 8.296875 \r\nL 28.515625 63.921875 \r\nL 10.984375 60.40625 \r\nL 10.984375 69.390625 \r\nL 28.421875 72.90625 \r\nL 38.28125 72.90625 \r\nL 38.28125 8.296875 \r\nL 54.390625 8.296875 \r\nL 54.390625 0 \r\nL 12.40625 0 \r\nz\r\n\" id=\"DejaVuSans-49\"/>\r\n       </defs>\r\n       <use xlink:href=\"#DejaVuSans-49\"/>\r\n      </g>\r\n     </g>\r\n    </g>\r\n    <g id=\"xtick_3\">\r\n     <g id=\"line2d_3\">\r\n      <g>\r\n       <use style=\"stroke:#000000;stroke-width:0.8;\" x=\"122.058097\" xlink:href=\"#m3bb82c1f48\" y=\"224.64\"/>\r\n      </g>\r\n     </g>\r\n     <g id=\"text_3\">\r\n      <!-- 2 -->\r\n      <g transform=\"translate(118.876847 239.238437)scale(0.1 -0.1)\">\r\n       <defs>\r\n        <path d=\"M 19.1875 8.296875 \r\nL 53.609375 8.296875 \r\nL 53.609375 0 \r\nL 7.328125 0 \r\nL 7.328125 8.296875 \r\nQ 12.9375 14.109375 22.625 23.890625 \r\nQ 32.328125 33.6875 34.8125 36.53125 \r\nQ 39.546875 41.84375 41.421875 45.53125 \r\nQ 43.3125 49.21875 43.3125 52.78125 \r\nQ 43.3125 58.59375 39.234375 62.25 \r\nQ 35.15625 65.921875 28.609375 65.921875 \r\nQ 23.96875 65.921875 18.8125 64.3125 \r\nQ 13.671875 62.703125 7.8125 59.421875 \r\nL 7.8125 69.390625 \r\nQ 13.765625 71.78125 18.9375 73 \r\nQ 24.125 74.21875 28.421875 74.21875 \r\nQ 39.75 74.21875 46.484375 68.546875 \r\nQ 53.21875 62.890625 53.21875 53.421875 \r\nQ 53.21875 48.921875 51.53125 44.890625 \r\nQ 49.859375 40.875 45.40625 35.40625 \r\nQ 44.1875 33.984375 37.640625 27.21875 \r\nQ 31.109375 20.453125 19.1875 8.296875 \r\nz\r\n\" id=\"DejaVuSans-50\"/>\r\n       </defs>\r\n       <use xlink:href=\"#DejaVuSans-50\"/>\r\n      </g>\r\n     </g>\r\n    </g>\r\n    <g id=\"xtick_4\">\r\n     <g id=\"line2d_4\">\r\n      <g>\r\n       <use style=\"stroke:#000000;stroke-width:0.8;\" x=\"156.644873\" xlink:href=\"#m3bb82c1f48\" y=\"224.64\"/>\r\n      </g>\r\n     </g>\r\n     <g id=\"text_4\">\r\n      <!-- 3 -->\r\n      <g transform=\"translate(153.463623 239.238437)scale(0.1 -0.1)\">\r\n       <defs>\r\n        <path d=\"M 40.578125 39.3125 \r\nQ 47.65625 37.796875 51.625 33 \r\nQ 55.609375 28.21875 55.609375 21.1875 \r\nQ 55.609375 10.40625 48.1875 4.484375 \r\nQ 40.765625 -1.421875 27.09375 -1.421875 \r\nQ 22.515625 -1.421875 17.65625 -0.515625 \r\nQ 12.796875 0.390625 7.625 2.203125 \r\nL 7.625 11.71875 \r\nQ 11.71875 9.328125 16.59375 8.109375 \r\nQ 21.484375 6.890625 26.8125 6.890625 \r\nQ 36.078125 6.890625 40.9375 10.546875 \r\nQ 45.796875 14.203125 45.796875 21.1875 \r\nQ 45.796875 27.640625 41.28125 31.265625 \r\nQ 36.765625 34.90625 28.71875 34.90625 \r\nL 20.21875 34.90625 \r\nL 20.21875 43.015625 \r\nL 29.109375 43.015625 \r\nQ 36.375 43.015625 40.234375 45.921875 \r\nQ 44.09375 48.828125 44.09375 54.296875 \r\nQ 44.09375 59.90625 40.109375 62.90625 \r\nQ 36.140625 65.921875 28.71875 65.921875 \r\nQ 24.65625 65.921875 20.015625 65.03125 \r\nQ 15.375 64.15625 9.8125 62.3125 \r\nL 9.8125 71.09375 \r\nQ 15.4375 72.65625 20.34375 73.4375 \r\nQ 25.25 74.21875 29.59375 74.21875 \r\nQ 40.828125 74.21875 47.359375 69.109375 \r\nQ 53.90625 64.015625 53.90625 55.328125 \r\nQ 53.90625 49.265625 50.4375 45.09375 \r\nQ 46.96875 40.921875 40.578125 39.3125 \r\nz\r\n\" id=\"DejaVuSans-51\"/>\r\n       </defs>\r\n       <use xlink:href=\"#DejaVuSans-51\"/>\r\n      </g>\r\n     </g>\r\n    </g>\r\n    <g id=\"xtick_5\">\r\n     <g id=\"line2d_5\">\r\n      <g>\r\n       <use style=\"stroke:#000000;stroke-width:0.8;\" x=\"191.23165\" xlink:href=\"#m3bb82c1f48\" y=\"224.64\"/>\r\n      </g>\r\n     </g>\r\n     <g id=\"text_5\">\r\n      <!-- 4 -->\r\n      <g transform=\"translate(188.0504 239.238437)scale(0.1 -0.1)\">\r\n       <defs>\r\n        <path d=\"M 37.796875 64.3125 \r\nL 12.890625 25.390625 \r\nL 37.796875 25.390625 \r\nz\r\nM 35.203125 72.90625 \r\nL 47.609375 72.90625 \r\nL 47.609375 25.390625 \r\nL 58.015625 25.390625 \r\nL 58.015625 17.1875 \r\nL 47.609375 17.1875 \r\nL 47.609375 0 \r\nL 37.796875 0 \r\nL 37.796875 17.1875 \r\nL 4.890625 17.1875 \r\nL 4.890625 26.703125 \r\nz\r\n\" id=\"DejaVuSans-52\"/>\r\n       </defs>\r\n       <use xlink:href=\"#DejaVuSans-52\"/>\r\n      </g>\r\n     </g>\r\n    </g>\r\n   </g>\r\n   <g id=\"matplotlib.axis_2\">\r\n    <g id=\"ytick_1\">\r\n     <g id=\"line2d_6\">\r\n      <defs>\r\n       <path d=\"M 0 0 \r\nL -3.5 0 \r\n\" id=\"m1309310379\" style=\"stroke:#000000;stroke-width:0.8;\"/>\r\n      </defs>\r\n      <g>\r\n       <use style=\"stroke:#000000;stroke-width:0.8;\" x=\"45.967188\" xlink:href=\"#m1309310379\" y=\"224.64\"/>\r\n      </g>\r\n     </g>\r\n     <g id=\"text_6\">\r\n      <!-- 0.0% -->\r\n      <g transform=\"translate(13.5625 228.439219)scale(0.1 -0.1)\">\r\n       <defs>\r\n        <path d=\"M 10.6875 12.40625 \r\nL 21 12.40625 \r\nL 21 0 \r\nL 10.6875 0 \r\nz\r\n\" id=\"DejaVuSans-46\"/>\r\n        <path d=\"M 72.703125 32.078125 \r\nQ 68.453125 32.078125 66.03125 28.46875 \r\nQ 63.625 24.859375 63.625 18.40625 \r\nQ 63.625 12.0625 66.03125 8.421875 \r\nQ 68.453125 4.78125 72.703125 4.78125 \r\nQ 76.859375 4.78125 79.265625 8.421875 \r\nQ 81.6875 12.0625 81.6875 18.40625 \r\nQ 81.6875 24.8125 79.265625 28.4375 \r\nQ 76.859375 32.078125 72.703125 32.078125 \r\nz\r\nM 72.703125 38.28125 \r\nQ 80.421875 38.28125 84.953125 32.90625 \r\nQ 89.5 27.546875 89.5 18.40625 \r\nQ 89.5 9.28125 84.9375 3.921875 \r\nQ 80.375 -1.421875 72.703125 -1.421875 \r\nQ 64.890625 -1.421875 60.34375 3.921875 \r\nQ 55.8125 9.28125 55.8125 18.40625 \r\nQ 55.8125 27.59375 60.375 32.9375 \r\nQ 64.9375 38.28125 72.703125 38.28125 \r\nz\r\nM 22.3125 68.015625 \r\nQ 18.109375 68.015625 15.6875 64.375 \r\nQ 13.28125 60.75 13.28125 54.390625 \r\nQ 13.28125 47.953125 15.671875 44.328125 \r\nQ 18.0625 40.71875 22.3125 40.71875 \r\nQ 26.5625 40.71875 28.96875 44.328125 \r\nQ 31.390625 47.953125 31.390625 54.390625 \r\nQ 31.390625 60.6875 28.953125 64.34375 \r\nQ 26.515625 68.015625 22.3125 68.015625 \r\nz\r\nM 66.40625 74.21875 \r\nL 74.21875 74.21875 \r\nL 28.609375 -1.421875 \r\nL 20.796875 -1.421875 \r\nz\r\nM 22.3125 74.21875 \r\nQ 30.03125 74.21875 34.609375 68.875 \r\nQ 39.203125 63.53125 39.203125 54.390625 \r\nQ 39.203125 45.171875 34.640625 39.84375 \r\nQ 30.078125 34.515625 22.3125 34.515625 \r\nQ 14.546875 34.515625 10.03125 39.859375 \r\nQ 5.515625 45.21875 5.515625 54.390625 \r\nQ 5.515625 63.484375 10.046875 68.84375 \r\nQ 14.59375 74.21875 22.3125 74.21875 \r\nz\r\n\" id=\"DejaVuSans-37\"/>\r\n       </defs>\r\n       <use xlink:href=\"#DejaVuSans-48\"/>\r\n       <use x=\"63.623047\" xlink:href=\"#DejaVuSans-46\"/>\r\n       <use x=\"95.410156\" xlink:href=\"#DejaVuSans-48\"/>\r\n       <use x=\"159.033203\" xlink:href=\"#DejaVuSans-37\"/>\r\n      </g>\r\n     </g>\r\n    </g>\r\n    <g id=\"ytick_2\">\r\n     <g id=\"line2d_7\">\r\n      <g>\r\n       <use style=\"stroke:#000000;stroke-width:0.8;\" x=\"45.967188\" xlink:href=\"#m1309310379\" y=\"199.508239\"/>\r\n      </g>\r\n     </g>\r\n     <g id=\"text_7\">\r\n      <!-- 5.0% -->\r\n      <g transform=\"translate(13.5625 203.307457)scale(0.1 -0.1)\">\r\n       <defs>\r\n        <path d=\"M 10.796875 72.90625 \r\nL 49.515625 72.90625 \r\nL 49.515625 64.59375 \r\nL 19.828125 64.59375 \r\nL 19.828125 46.734375 \r\nQ 21.96875 47.46875 24.109375 47.828125 \r\nQ 26.265625 48.1875 28.421875 48.1875 \r\nQ 40.625 48.1875 47.75 41.5 \r\nQ 54.890625 34.8125 54.890625 23.390625 \r\nQ 54.890625 11.625 47.5625 5.09375 \r\nQ 40.234375 -1.421875 26.90625 -1.421875 \r\nQ 22.3125 -1.421875 17.546875 -0.640625 \r\nQ 12.796875 0.140625 7.71875 1.703125 \r\nL 7.71875 11.625 \r\nQ 12.109375 9.234375 16.796875 8.0625 \r\nQ 21.484375 6.890625 26.703125 6.890625 \r\nQ 35.15625 6.890625 40.078125 11.328125 \r\nQ 45.015625 15.765625 45.015625 23.390625 \r\nQ 45.015625 31 40.078125 35.4375 \r\nQ 35.15625 39.890625 26.703125 39.890625 \r\nQ 22.75 39.890625 18.8125 39.015625 \r\nQ 14.890625 38.140625 10.796875 36.28125 \r\nz\r\n\" id=\"DejaVuSans-53\"/>\r\n       </defs>\r\n       <use xlink:href=\"#DejaVuSans-53\"/>\r\n       <use x=\"63.623047\" xlink:href=\"#DejaVuSans-46\"/>\r\n       <use x=\"95.410156\" xlink:href=\"#DejaVuSans-48\"/>\r\n       <use x=\"159.033203\" xlink:href=\"#DejaVuSans-37\"/>\r\n      </g>\r\n     </g>\r\n    </g>\r\n    <g id=\"ytick_3\">\r\n     <g id=\"line2d_8\">\r\n      <g>\r\n       <use style=\"stroke:#000000;stroke-width:0.8;\" x=\"45.967188\" xlink:href=\"#m1309310379\" y=\"174.376477\"/>\r\n      </g>\r\n     </g>\r\n     <g id=\"text_8\">\r\n      <!-- 10.0% -->\r\n      <g transform=\"translate(7.2 178.175696)scale(0.1 -0.1)\">\r\n       <use xlink:href=\"#DejaVuSans-49\"/>\r\n       <use x=\"63.623047\" xlink:href=\"#DejaVuSans-48\"/>\r\n       <use x=\"127.246094\" xlink:href=\"#DejaVuSans-46\"/>\r\n       <use x=\"159.033203\" xlink:href=\"#DejaVuSans-48\"/>\r\n       <use x=\"222.65625\" xlink:href=\"#DejaVuSans-37\"/>\r\n      </g>\r\n     </g>\r\n    </g>\r\n    <g id=\"ytick_4\">\r\n     <g id=\"line2d_9\">\r\n      <g>\r\n       <use style=\"stroke:#000000;stroke-width:0.8;\" x=\"45.967188\" xlink:href=\"#m1309310379\" y=\"149.244716\"/>\r\n      </g>\r\n     </g>\r\n     <g id=\"text_9\">\r\n      <!-- 15.0% -->\r\n      <g transform=\"translate(7.2 153.043934)scale(0.1 -0.1)\">\r\n       <use xlink:href=\"#DejaVuSans-49\"/>\r\n       <use x=\"63.623047\" xlink:href=\"#DejaVuSans-53\"/>\r\n       <use x=\"127.246094\" xlink:href=\"#DejaVuSans-46\"/>\r\n       <use x=\"159.033203\" xlink:href=\"#DejaVuSans-48\"/>\r\n       <use x=\"222.65625\" xlink:href=\"#DejaVuSans-37\"/>\r\n      </g>\r\n     </g>\r\n    </g>\r\n    <g id=\"ytick_5\">\r\n     <g id=\"line2d_10\">\r\n      <g>\r\n       <use style=\"stroke:#000000;stroke-width:0.8;\" x=\"45.967188\" xlink:href=\"#m1309310379\" y=\"124.112954\"/>\r\n      </g>\r\n     </g>\r\n     <g id=\"text_10\">\r\n      <!-- 20.0% -->\r\n      <g transform=\"translate(7.2 127.912173)scale(0.1 -0.1)\">\r\n       <use xlink:href=\"#DejaVuSans-50\"/>\r\n       <use x=\"63.623047\" xlink:href=\"#DejaVuSans-48\"/>\r\n       <use x=\"127.246094\" xlink:href=\"#DejaVuSans-46\"/>\r\n       <use x=\"159.033203\" xlink:href=\"#DejaVuSans-48\"/>\r\n       <use x=\"222.65625\" xlink:href=\"#DejaVuSans-37\"/>\r\n      </g>\r\n     </g>\r\n    </g>\r\n    <g id=\"ytick_6\">\r\n     <g id=\"line2d_11\">\r\n      <g>\r\n       <use style=\"stroke:#000000;stroke-width:0.8;\" x=\"45.967188\" xlink:href=\"#m1309310379\" y=\"98.981193\"/>\r\n      </g>\r\n     </g>\r\n     <g id=\"text_11\">\r\n      <!-- 25.0% -->\r\n      <g transform=\"translate(7.2 102.780412)scale(0.1 -0.1)\">\r\n       <use xlink:href=\"#DejaVuSans-50\"/>\r\n       <use x=\"63.623047\" xlink:href=\"#DejaVuSans-53\"/>\r\n       <use x=\"127.246094\" xlink:href=\"#DejaVuSans-46\"/>\r\n       <use x=\"159.033203\" xlink:href=\"#DejaVuSans-48\"/>\r\n       <use x=\"222.65625\" xlink:href=\"#DejaVuSans-37\"/>\r\n      </g>\r\n     </g>\r\n    </g>\r\n    <g id=\"ytick_7\">\r\n     <g id=\"line2d_12\">\r\n      <g>\r\n       <use style=\"stroke:#000000;stroke-width:0.8;\" x=\"45.967188\" xlink:href=\"#m1309310379\" y=\"73.849431\"/>\r\n      </g>\r\n     </g>\r\n     <g id=\"text_12\">\r\n      <!-- 30.0% -->\r\n      <g transform=\"translate(7.2 77.64865)scale(0.1 -0.1)\">\r\n       <use xlink:href=\"#DejaVuSans-51\"/>\r\n       <use x=\"63.623047\" xlink:href=\"#DejaVuSans-48\"/>\r\n       <use x=\"127.246094\" xlink:href=\"#DejaVuSans-46\"/>\r\n       <use x=\"159.033203\" xlink:href=\"#DejaVuSans-48\"/>\r\n       <use x=\"222.65625\" xlink:href=\"#DejaVuSans-37\"/>\r\n      </g>\r\n     </g>\r\n    </g>\r\n    <g id=\"ytick_8\">\r\n     <g id=\"line2d_13\">\r\n      <g>\r\n       <use style=\"stroke:#000000;stroke-width:0.8;\" x=\"45.967188\" xlink:href=\"#m1309310379\" y=\"48.71767\"/>\r\n      </g>\r\n     </g>\r\n     <g id=\"text_13\">\r\n      <!-- 35.0% -->\r\n      <g transform=\"translate(7.2 52.516889)scale(0.1 -0.1)\">\r\n       <use xlink:href=\"#DejaVuSans-51\"/>\r\n       <use x=\"63.623047\" xlink:href=\"#DejaVuSans-53\"/>\r\n       <use x=\"127.246094\" xlink:href=\"#DejaVuSans-46\"/>\r\n       <use x=\"159.033203\" xlink:href=\"#DejaVuSans-48\"/>\r\n       <use x=\"222.65625\" xlink:href=\"#DejaVuSans-37\"/>\r\n      </g>\r\n     </g>\r\n    </g>\r\n    <g id=\"ytick_9\">\r\n     <g id=\"line2d_14\">\r\n      <g>\r\n       <use style=\"stroke:#000000;stroke-width:0.8;\" x=\"45.967188\" xlink:href=\"#m1309310379\" y=\"23.585908\"/>\r\n      </g>\r\n     </g>\r\n     <g id=\"text_14\">\r\n      <!-- 40.0% -->\r\n      <g transform=\"translate(7.2 27.385127)scale(0.1 -0.1)\">\r\n       <use xlink:href=\"#DejaVuSans-52\"/>\r\n       <use x=\"63.623047\" xlink:href=\"#DejaVuSans-48\"/>\r\n       <use x=\"127.246094\" xlink:href=\"#DejaVuSans-46\"/>\r\n       <use x=\"159.033203\" xlink:href=\"#DejaVuSans-48\"/>\r\n       <use x=\"222.65625\" xlink:href=\"#DejaVuSans-37\"/>\r\n      </g>\r\n     </g>\r\n    </g>\r\n   </g>\r\n   <g id=\"patch_13\">\r\n    <path d=\"M 45.967188 224.64 \r\nL 45.967188 7.2 \r\n\" style=\"fill:none;stroke:#000000;stroke-linecap:square;stroke-linejoin:miter;stroke-width:0.8;\"/>\r\n   </g>\r\n   <g id=\"patch_14\">\r\n    <path d=\"M 198.149006 224.64 \r\nL 198.149006 7.2 \r\n\" style=\"fill:none;stroke:#000000;stroke-linecap:square;stroke-linejoin:miter;stroke-width:0.8;\"/>\r\n   </g>\r\n   <g id=\"patch_15\">\r\n    <path d=\"M 45.967188 224.64 \r\nL 198.149006 224.64 \r\n\" style=\"fill:none;stroke:#000000;stroke-linecap:square;stroke-linejoin:miter;stroke-width:0.8;\"/>\r\n   </g>\r\n   <g id=\"patch_16\">\r\n    <path d=\"M 45.967188 7.2 \r\nL 198.149006 7.2 \r\n\" style=\"fill:none;stroke:#000000;stroke-linecap:square;stroke-linejoin:miter;stroke-width:0.8;\"/>\r\n   </g>\r\n  </g>\r\n  <g id=\"axes_2\">\r\n   <g id=\"patch_17\">\r\n    <path d=\"M 228.585369 224.64 \r\nL 380.767187 224.64 \r\nL 380.767187 7.2 \r\nL 228.585369 7.2 \r\nz\r\n\" style=\"fill:#ffffff;\"/>\r\n   </g>\r\n   <g id=\"patch_18\">\r\n    <path clip-path=\"url(#p51df4145b0)\" d=\"M 235.502725 224.64 \r\nL 258.560576 224.64 \r\nL 258.560576 17.554286 \r\nL 235.502725 17.554286 \r\nz\r\n\" style=\"fill:#1f77b4;\"/>\r\n   </g>\r\n   <g id=\"patch_19\">\r\n    <path clip-path=\"url(#p51df4145b0)\" d=\"M 264.325039 224.64 \r\nL 287.38289 224.64 \r\nL 287.38289 54.001371 \r\nL 264.325039 54.001371 \r\nz\r\n\" style=\"fill:#1f77b4;\"/>\r\n   </g>\r\n   <g id=\"patch_20\">\r\n    <path clip-path=\"url(#p51df4145b0)\" d=\"M 293.147353 224.64 \r\nL 316.205204 224.64 \r\nL 316.205204 154.336885 \r\nL 293.147353 154.336885 \r\nz\r\n\" style=\"fill:#1f77b4;\"/>\r\n   </g>\r\n   <g id=\"patch_21\">\r\n    <path clip-path=\"url(#p51df4145b0)\" d=\"M 321.969667 224.64 \r\nL 345.027518 224.64 \r\nL 345.027518 205.330078 \r\nL 321.969667 205.330078 \r\nz\r\n\" style=\"fill:#1f77b4;\"/>\r\n   </g>\r\n   <g id=\"patch_22\">\r\n    <path clip-path=\"url(#p51df4145b0)\" d=\"M 350.791981 224.64 \r\nL 373.849832 224.64 \r\nL 373.849832 220.662156 \r\nL 350.791981 220.662156 \r\nz\r\n\" style=\"fill:#1f77b4;\"/>\r\n   </g>\r\n   <g id=\"matplotlib.axis_3\">\r\n    <g id=\"xtick_6\">\r\n     <g id=\"line2d_15\">\r\n      <g>\r\n       <use style=\"stroke:#000000;stroke-width:0.8;\" x=\"247.03165\" xlink:href=\"#m3bb82c1f48\" y=\"224.64\"/>\r\n      </g>\r\n     </g>\r\n     <g id=\"text_15\">\r\n      <!-- 0 -->\r\n      <g transform=\"translate(243.8504 239.238437)scale(0.1 -0.1)\">\r\n       <use xlink:href=\"#DejaVuSans-48\"/>\r\n      </g>\r\n     </g>\r\n    </g>\r\n    <g id=\"xtick_7\">\r\n     <g id=\"line2d_16\">\r\n      <g>\r\n       <use style=\"stroke:#000000;stroke-width:0.8;\" x=\"304.676278\" xlink:href=\"#m3bb82c1f48\" y=\"224.64\"/>\r\n      </g>\r\n     </g>\r\n     <g id=\"text_16\">\r\n      <!-- 2 -->\r\n      <g transform=\"translate(301.495028 239.238437)scale(0.1 -0.1)\">\r\n       <use xlink:href=\"#DejaVuSans-50\"/>\r\n      </g>\r\n     </g>\r\n    </g>\r\n    <g id=\"xtick_8\">\r\n     <g id=\"line2d_17\">\r\n      <g>\r\n       <use style=\"stroke:#000000;stroke-width:0.8;\" x=\"362.320907\" xlink:href=\"#m3bb82c1f48\" y=\"224.64\"/>\r\n      </g>\r\n     </g>\r\n     <g id=\"text_17\">\r\n      <!-- 4 -->\r\n      <g transform=\"translate(359.139657 239.238437)scale(0.1 -0.1)\">\r\n       <use xlink:href=\"#DejaVuSans-52\"/>\r\n      </g>\r\n     </g>\r\n    </g>\r\n   </g>\r\n   <g id=\"matplotlib.axis_4\">\r\n    <g id=\"ytick_10\">\r\n     <g id=\"line2d_18\">\r\n      <g>\r\n       <use style=\"stroke:#000000;stroke-width:0.8;\" x=\"228.585369\" xlink:href=\"#m1309310379\" y=\"224.64\"/>\r\n      </g>\r\n     </g>\r\n     <g id=\"text_18\">\r\n      <!-- 0.0 -->\r\n      <g transform=\"translate(205.682244 228.439219)scale(0.1 -0.1)\">\r\n       <use xlink:href=\"#DejaVuSans-48\"/>\r\n       <use x=\"63.623047\" xlink:href=\"#DejaVuSans-46\"/>\r\n       <use x=\"95.410156\" xlink:href=\"#DejaVuSans-48\"/>\r\n      </g>\r\n     </g>\r\n    </g>\r\n    <g id=\"ytick_11\">\r\n     <g id=\"line2d_19\">\r\n      <g>\r\n       <use style=\"stroke:#000000;stroke-width:0.8;\" x=\"228.585369\" xlink:href=\"#m1309310379\" y=\"177.43274\"/>\r\n      </g>\r\n     </g>\r\n     <g id=\"text_19\">\r\n      <!-- 0.1 -->\r\n      <g transform=\"translate(205.682244 181.231959)scale(0.1 -0.1)\">\r\n       <use xlink:href=\"#DejaVuSans-48\"/>\r\n       <use x=\"63.623047\" xlink:href=\"#DejaVuSans-46\"/>\r\n       <use x=\"95.410156\" xlink:href=\"#DejaVuSans-49\"/>\r\n      </g>\r\n     </g>\r\n    </g>\r\n    <g id=\"ytick_12\">\r\n     <g id=\"line2d_20\">\r\n      <g>\r\n       <use style=\"stroke:#000000;stroke-width:0.8;\" x=\"228.585369\" xlink:href=\"#m1309310379\" y=\"130.22548\"/>\r\n      </g>\r\n     </g>\r\n     <g id=\"text_20\">\r\n      <!-- 0.2 -->\r\n      <g transform=\"translate(205.682244 134.024699)scale(0.1 -0.1)\">\r\n       <use xlink:href=\"#DejaVuSans-48\"/>\r\n       <use x=\"63.623047\" xlink:href=\"#DejaVuSans-46\"/>\r\n       <use x=\"95.410156\" xlink:href=\"#DejaVuSans-50\"/>\r\n      </g>\r\n     </g>\r\n    </g>\r\n    <g id=\"ytick_13\">\r\n     <g id=\"line2d_21\">\r\n      <g>\r\n       <use style=\"stroke:#000000;stroke-width:0.8;\" x=\"228.585369\" xlink:href=\"#m1309310379\" y=\"83.01822\"/>\r\n      </g>\r\n     </g>\r\n     <g id=\"text_21\">\r\n      <!-- 0.3 -->\r\n      <g transform=\"translate(205.682244 86.817439)scale(0.1 -0.1)\">\r\n       <use xlink:href=\"#DejaVuSans-48\"/>\r\n       <use x=\"63.623047\" xlink:href=\"#DejaVuSans-46\"/>\r\n       <use x=\"95.410156\" xlink:href=\"#DejaVuSans-51\"/>\r\n      </g>\r\n     </g>\r\n    </g>\r\n    <g id=\"ytick_14\">\r\n     <g id=\"line2d_22\">\r\n      <g>\r\n       <use style=\"stroke:#000000;stroke-width:0.8;\" x=\"228.585369\" xlink:href=\"#m1309310379\" y=\"35.81096\"/>\r\n      </g>\r\n     </g>\r\n     <g id=\"text_22\">\r\n      <!-- 0.4 -->\r\n      <g transform=\"translate(205.682244 39.610179)scale(0.1 -0.1)\">\r\n       <use xlink:href=\"#DejaVuSans-48\"/>\r\n       <use x=\"63.623047\" xlink:href=\"#DejaVuSans-46\"/>\r\n       <use x=\"95.410156\" xlink:href=\"#DejaVuSans-52\"/>\r\n      </g>\r\n     </g>\r\n    </g>\r\n   </g>\r\n   <g id=\"patch_23\">\r\n    <path d=\"M 228.585369 224.64 \r\nL 228.585369 7.2 \r\n\" style=\"fill:none;stroke:#000000;stroke-linecap:square;stroke-linejoin:miter;stroke-width:0.8;\"/>\r\n   </g>\r\n   <g id=\"patch_24\">\r\n    <path d=\"M 380.767187 224.64 \r\nL 380.767187 7.2 \r\n\" style=\"fill:none;stroke:#000000;stroke-linecap:square;stroke-linejoin:miter;stroke-width:0.8;\"/>\r\n   </g>\r\n   <g id=\"patch_25\">\r\n    <path d=\"M 228.585369 224.64 \r\nL 380.767187 224.64 \r\n\" style=\"fill:none;stroke:#000000;stroke-linecap:square;stroke-linejoin:miter;stroke-width:0.8;\"/>\r\n   </g>\r\n   <g id=\"patch_26\">\r\n    <path d=\"M 228.585369 7.2 \r\nL 380.767187 7.2 \r\n\" style=\"fill:none;stroke:#000000;stroke-linecap:square;stroke-linejoin:miter;stroke-width:0.8;\"/>\r\n   </g>\r\n  </g>\r\n </g>\r\n <defs>\r\n  <clipPath id=\"p6a04f0f30b\">\r\n   <rect height=\"217.44\" width=\"152.181818\" x=\"45.967188\" y=\"7.2\"/>\r\n  </clipPath>\r\n  <clipPath id=\"p51df4145b0\">\r\n   <rect height=\"217.44\" width=\"152.181818\" x=\"228.585369\" y=\"7.2\"/>\r\n  </clipPath>\r\n </defs>\r\n</svg>\r\n",
      "image/png": "[encoded data removed]"
     },
     "metadata": {
      "needs_background": "light"
     }
    }
   ],
   "source": [
    "results = [getScore(0.824) for i in range(1000)]\n",
    "plt.subplot(1, 2, 1)\n",
    "plt.hist(results, weights=np.ones(len(results)) / len(results))\n",
    "plt.gca().yaxis.set_major_formatter(PercentFormatter(1))\n",
    "plt.subplot(1, 2, 2)\n",
    "dis = getDistribution(0.824)\n",
    "forPlot = {dis.index(i):i for i in dis}\n",
    "plt.bar(range(5), getDistribution(0.824))\n",
    "plt.show()"
   ]
  },
  {
   "cell_type": "code",
   "execution_count": 129,
   "metadata": {},
   "outputs": [],
   "source": [
    "def makeSchedule(teams):\n",
    "    ammountTeams = len(teams)\n",
    "    schedule = pd.DataFrame(np.zeros((ammountTeams, ammountTeams)))\n",
    "    schedule.columns = teams\n",
    "    schedule.index = teams\n",
    "    return schedule\n",
    "\n",
    "def playSchedule(schedule, averScoreDF):\n",
    "    for column in schedule:\n",
    "        for index, row in schedule.iterrows():\n",
    "            if index == column:\n",
    "                schedule[column][index] = None\n",
    "            else:\n",
    "                scoreChanseHome = (averScoreDF[\"HS\"][index] + averScoreDF[\"AC\"][column]) /2\n",
    "                scoreChanseAway = (averScoreDF[\"AS\"][column] + averScoreDF[\"HC\"][index]) /2\n",
    "                gameResult = \"{}:{}\".format(getScore(scoreChanseHome), getScore(scoreChanseAway))\n",
    "                schedule[column][index] = gameResult\n",
    "    return schedule"
   ]
  },
  {
   "cell_type": "code",
   "execution_count": 130,
   "metadata": {},
   "outputs": [
    {
     "output_type": "stream",
     "name": "stdout",
     "text": [
      "          Ajax Feyenoord   PSV FCUtrecht WillemII\nAjax       NaN       1:3   1:1       2:2      1:1\nFeyenoord  3:2      None   0:0       4:0      2:1\nPSV        2:1       0:1  None       4:2      2:1\nFCUtrecht  3:3       2:1   2:1      None      2:4\nWillemII   2:1       0:1   2:2       0:3     None\n"
     ]
    }
   ],
   "source": [
    "print(playSchedule(makeSchedule(teams), averScoreDF))"
   ]
  }
 ]
}